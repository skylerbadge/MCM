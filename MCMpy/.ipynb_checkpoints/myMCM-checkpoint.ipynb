{
 "cells": [
  {
   "cell_type": "code",
   "execution_count": 1,
   "metadata": {},
   "outputs": [
    {
     "name": "stdout",
     "output_type": "stream",
     "text": [
      "C:\\Users\\Skyler\\OneDrive\\IIT_Delhi\\Jayadeva\\MCM\\MCMpy\n",
      "C:\\Users\\Skyler\\OneDrive\\IIT_Delhi\\Jayadeva\\MCM\\MCMpy\n"
     ]
    }
   ],
   "source": [
    "import numpy as np\n",
    "import pandas as pd\n",
    "from time import time\n",
    "from sklearn.model_selection import StratifiedKFold\n",
    "import os\n",
    "from sklearn.cluster import KMeans\n",
    "from sklearn import datasets\n",
    "import matplotlib.pyplot as plt\n",
    "\n",
    "\n",
    "from scipy.stats import mode\n",
    "#from sklearn.metrics import confusion_matrix\n",
    "from sklearn.metrics import f1_score\n",
    "from sklearn.utils import resample\n",
    "from sklearn.neighbors import NearestNeighbors\n",
    "from numpy.matlib import repmat\n",
    "#from sklearn.covariance import OAS,LedoitWolf\n",
    "#%%\n",
    "hpc=False\n",
    "print (os.getcwd())\n",
    "if(hpc==False):\n",
    "    path1=\"C:\\\\Users\\\\Skyler\\\\OneDrive\\\\IIT_Delhi\\\\Jayadeva\\\\MCM\\\\MCMpy\"\n",
    "else:\n",
    "    path1=\"/home/ee/phd/eez142368/classification_datasets/label_partition/L1_SM_SGD_lin_label_partition_EM_Random_avg_large\"\n",
    "os.chdir(path1)\n",
    "print (os.getcwd())\n",
    "from MCM import MCM\n",
    "#%%\n",
    "def standardize(xTrain):\n",
    "    me=np.mean(xTrain,axis=0)\n",
    "    std_dev=np.std(xTrain,axis=0)\n",
    "    #remove columns with zero std\n",
    "    idx=(std_dev!=0.0)\n",
    "    print(idx.shape)\n",
    "    xTrain[:,idx]=(xTrain[:,idx]-me[idx])/std_dev[idx]\n",
    "    return xTrain,me,std_dev\n"
   ]
  },
  {
   "cell_type": "code",
   "execution_count": 2,
   "metadata": {},
   "outputs": [],
   "source": [
    "#plt.figure()\n",
    "#plt.scatter(X[:, 0], X[:, 1], marker='o', c=Y)\n",
    "datapath=path1 +'/data'\n",
    "#randomly sample class=1\n",
    "imbalance_ratio=1\n",
    "#dataset_name=10\n",
    "dataset_type='clustering'\n"
   ]
  },
  {
   "cell_type": "code",
   "execution_count": null,
   "metadata": {},
   "outputs": [],
   "source": [
    "# for here"
   ]
  },
  {
   "cell_type": "code",
   "execution_count": 3,
   "metadata": {},
   "outputs": [],
   "source": [
    "dataset_name = 1"
   ]
  },
  {
   "cell_type": "code",
   "execution_count": 7,
   "metadata": {},
   "outputs": [],
   "source": [
    "typeAlgo= 'MCM_C'\n",
    "np.random.seed(1)\n",
    "data=np.loadtxt(datapath+'/%d.txt'%(dataset_name))\n",
    "X=data[:,0:2]\n",
    "Y=data[:,2]\n",
    "Y=Y-1\n",
    "Y=np.array(Y,dtype=np.int32)"
   ]
  },
  {
   "cell_type": "code",
   "execution_count": 13,
   "metadata": {},
   "outputs": [
    {
     "data": {
      "text/plain": [
       "array([[15.55, 28.65],\n",
       "       [14.9 , 27.55],\n",
       "       [14.45, 28.35],\n",
       "       ...,\n",
       "       [ 8.5 ,  3.25],\n",
       "       [ 8.1 ,  3.55],\n",
       "       [ 8.15,  4.  ]])"
      ]
     },
     "execution_count": 13,
     "metadata": {},
     "output_type": "execute_result"
    }
   ],
   "source": [
    "#\n",
    "X"
   ]
  },
  {
   "cell_type": "code",
   "execution_count": 14,
   "metadata": {},
   "outputs": [
    {
     "name": "stdout",
     "output_type": "stream",
     "text": [
      "(2,)\n"
     ]
    }
   ],
   "source": [
    "X,me,std_dev=standardize(X)"
   ]
  },
  {
   "cell_type": "code",
   "execution_count": 16,
   "metadata": {},
   "outputs": [
    {
     "data": {
      "text/plain": [
       "array([[-0.40509461,  1.7908527 ],\n",
       "       [-0.47064692,  1.65479068],\n",
       "       [-0.51602929,  1.75374488],\n",
       "       ...,\n",
       "       [-1.11608509, -1.35094292],\n",
       "       [-1.15642497, -1.3138351 ],\n",
       "       [-1.15138249, -1.25817336]])"
      ]
     },
     "execution_count": 16,
     "metadata": {},
     "output_type": "execute_result"
    }
   ],
   "source": [
    "#\n",
    "X"
   ]
  },
  {
   "cell_type": "code",
   "execution_count": null,
   "metadata": {},
   "outputs": [],
   "source": []
  }
 ],
 "metadata": {
  "kernelspec": {
   "display_name": "Python 3",
   "language": "python",
   "name": "python3"
  },
  "language_info": {
   "codemirror_mode": {
    "name": "ipython",
    "version": 3
   },
   "file_extension": ".py",
   "mimetype": "text/x-python",
   "name": "python",
   "nbconvert_exporter": "python",
   "pygments_lexer": "ipython3",
   "version": "3.7.1"
  }
 },
 "nbformat": 4,
 "nbformat_minor": 2
}
